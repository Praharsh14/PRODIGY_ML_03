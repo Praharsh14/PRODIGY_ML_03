{
 "cells": [
  {
   "cell_type": "code",
   "execution_count": 1,
   "metadata": {},
   "outputs": [],
   "source": [
    "import pickle"
   ]
  },
  {
   "cell_type": "code",
   "execution_count": 2,
   "metadata": {},
   "outputs": [],
   "source": [
    "X = pickle.load(open('X.pkl', 'rb'))\n",
    "y = pickle.load(open('y.pkl', 'rb'))"
   ]
  },
  {
   "cell_type": "code",
   "execution_count": 3,
   "metadata": {},
   "outputs": [
    {
     "data": {
      "text/plain": [
       "array([[[106,  81, 101, ..., 114, 121,  84],\n",
       "        [ 97, 127,  81, ..., 108,  86, 120],\n",
       "        [163,  88,  96, ...,  75, 130,  66],\n",
       "        ...,\n",
       "        [170, 154, 197, ..., 152, 138, 122],\n",
       "        [178, 183, 166, ..., 171, 125, 139],\n",
       "        [186, 188, 178, ..., 195, 173, 148]],\n",
       "\n",
       "       [[134, 130, 129, ..., 207, 205, 205],\n",
       "        [134, 129, 133, ..., 214, 213, 212],\n",
       "        [135, 133, 131, ..., 227, 226, 223],\n",
       "        ...,\n",
       "        [136, 139, 124, ..., 180, 121, 108],\n",
       "        [172, 126, 102, ..., 165, 103,  87],\n",
       "        [228, 231, 234, ..., 203, 149, 107]],\n",
       "\n",
       "       [[224, 254, 255, ..., 154, 151, 195],\n",
       "        [203, 250, 255, ..., 161, 164, 195],\n",
       "        [159, 224, 255, ..., 170, 146, 194],\n",
       "        ...,\n",
       "        [253, 254, 254, ..., 255, 255, 255],\n",
       "        [253, 254, 254, ..., 255, 255, 255],\n",
       "        [255, 253, 255, ..., 255, 255, 255]],\n",
       "\n",
       "       ...,\n",
       "\n",
       "       [[101,  97, 106, ..., 254, 254, 254],\n",
       "        [ 92, 123, 107, ..., 224, 252, 252],\n",
       "        [ 93, 102, 102, ..., 215, 199, 125],\n",
       "        ...,\n",
       "        [178, 168, 194, ..., 203, 191, 207],\n",
       "        [202, 172, 182, ..., 227, 222, 197],\n",
       "        [214, 177, 180, ..., 226, 218, 224]],\n",
       "\n",
       "       [[155, 148, 144, ..., 103, 103, 103],\n",
       "        [157, 155, 149, ..., 100, 100, 100],\n",
       "        [155, 152, 147, ...,  97,  98,  99],\n",
       "        ...,\n",
       "        [236, 236, 221, ...,  32,  28,  24],\n",
       "        [215, 224, 218, ...,  32,  28,  24],\n",
       "        [205, 206, 214, ...,  32,  28,  24]],\n",
       "\n",
       "       [[ 41,  41,  39, ...,  34,  36,  37],\n",
       "        [ 41,  43,  39, ...,  34,  36,  36],\n",
       "        [ 47,  45,  40, ...,  34,  36,  37],\n",
       "        ...,\n",
       "        [ 24,  23,  46, ...,  21,  22,  17],\n",
       "        [ 27,  25,  21, ...,  21,  18,  21],\n",
       "        [ 27,  25,  27, ...,  25,  16,  25]]], dtype=uint8)"
      ]
     },
     "execution_count": 3,
     "metadata": {},
     "output_type": "execute_result"
    }
   ],
   "source": [
    "X"
   ]
  },
  {
   "cell_type": "code",
   "execution_count": 4,
   "metadata": {},
   "outputs": [
    {
     "data": {
      "text/plain": [
       "array([1, 0, 1, ..., 1, 0, 0])"
      ]
     },
     "execution_count": 4,
     "metadata": {},
     "output_type": "execute_result"
    }
   ],
   "source": [
    "y"
   ]
  },
  {
   "cell_type": "code",
   "execution_count": 5,
   "metadata": {},
   "outputs": [],
   "source": [
    "X = X/255"
   ]
  },
  {
   "cell_type": "code",
   "execution_count": 6,
   "metadata": {
    "scrolled": true
   },
   "outputs": [
    {
     "data": {
      "text/plain": [
       "array([[[0.41568627, 0.31764706, 0.39607843, ..., 0.44705882,\n",
       "         0.4745098 , 0.32941176],\n",
       "        [0.38039216, 0.49803922, 0.31764706, ..., 0.42352941,\n",
       "         0.3372549 , 0.47058824],\n",
       "        [0.63921569, 0.34509804, 0.37647059, ..., 0.29411765,\n",
       "         0.50980392, 0.25882353],\n",
       "        ...,\n",
       "        [0.66666667, 0.60392157, 0.77254902, ..., 0.59607843,\n",
       "         0.54117647, 0.47843137],\n",
       "        [0.69803922, 0.71764706, 0.65098039, ..., 0.67058824,\n",
       "         0.49019608, 0.54509804],\n",
       "        [0.72941176, 0.7372549 , 0.69803922, ..., 0.76470588,\n",
       "         0.67843137, 0.58039216]],\n",
       "\n",
       "       [[0.5254902 , 0.50980392, 0.50588235, ..., 0.81176471,\n",
       "         0.80392157, 0.80392157],\n",
       "        [0.5254902 , 0.50588235, 0.52156863, ..., 0.83921569,\n",
       "         0.83529412, 0.83137255],\n",
       "        [0.52941176, 0.52156863, 0.51372549, ..., 0.89019608,\n",
       "         0.88627451, 0.8745098 ],\n",
       "        ...,\n",
       "        [0.53333333, 0.54509804, 0.48627451, ..., 0.70588235,\n",
       "         0.4745098 , 0.42352941],\n",
       "        [0.6745098 , 0.49411765, 0.4       , ..., 0.64705882,\n",
       "         0.40392157, 0.34117647],\n",
       "        [0.89411765, 0.90588235, 0.91764706, ..., 0.79607843,\n",
       "         0.58431373, 0.41960784]],\n",
       "\n",
       "       [[0.87843137, 0.99607843, 1.        , ..., 0.60392157,\n",
       "         0.59215686, 0.76470588],\n",
       "        [0.79607843, 0.98039216, 1.        , ..., 0.63137255,\n",
       "         0.64313725, 0.76470588],\n",
       "        [0.62352941, 0.87843137, 1.        , ..., 0.66666667,\n",
       "         0.57254902, 0.76078431],\n",
       "        ...,\n",
       "        [0.99215686, 0.99607843, 0.99607843, ..., 1.        ,\n",
       "         1.        , 1.        ],\n",
       "        [0.99215686, 0.99607843, 0.99607843, ..., 1.        ,\n",
       "         1.        , 1.        ],\n",
       "        [1.        , 0.99215686, 1.        , ..., 1.        ,\n",
       "         1.        , 1.        ]],\n",
       "\n",
       "       ...,\n",
       "\n",
       "       [[0.39607843, 0.38039216, 0.41568627, ..., 0.99607843,\n",
       "         0.99607843, 0.99607843],\n",
       "        [0.36078431, 0.48235294, 0.41960784, ..., 0.87843137,\n",
       "         0.98823529, 0.98823529],\n",
       "        [0.36470588, 0.4       , 0.4       , ..., 0.84313725,\n",
       "         0.78039216, 0.49019608],\n",
       "        ...,\n",
       "        [0.69803922, 0.65882353, 0.76078431, ..., 0.79607843,\n",
       "         0.74901961, 0.81176471],\n",
       "        [0.79215686, 0.6745098 , 0.71372549, ..., 0.89019608,\n",
       "         0.87058824, 0.77254902],\n",
       "        [0.83921569, 0.69411765, 0.70588235, ..., 0.88627451,\n",
       "         0.85490196, 0.87843137]],\n",
       "\n",
       "       [[0.60784314, 0.58039216, 0.56470588, ..., 0.40392157,\n",
       "         0.40392157, 0.40392157],\n",
       "        [0.61568627, 0.60784314, 0.58431373, ..., 0.39215686,\n",
       "         0.39215686, 0.39215686],\n",
       "        [0.60784314, 0.59607843, 0.57647059, ..., 0.38039216,\n",
       "         0.38431373, 0.38823529],\n",
       "        ...,\n",
       "        [0.9254902 , 0.9254902 , 0.86666667, ..., 0.1254902 ,\n",
       "         0.10980392, 0.09411765],\n",
       "        [0.84313725, 0.87843137, 0.85490196, ..., 0.1254902 ,\n",
       "         0.10980392, 0.09411765],\n",
       "        [0.80392157, 0.80784314, 0.83921569, ..., 0.1254902 ,\n",
       "         0.10980392, 0.09411765]],\n",
       "\n",
       "       [[0.16078431, 0.16078431, 0.15294118, ..., 0.13333333,\n",
       "         0.14117647, 0.14509804],\n",
       "        [0.16078431, 0.16862745, 0.15294118, ..., 0.13333333,\n",
       "         0.14117647, 0.14117647],\n",
       "        [0.18431373, 0.17647059, 0.15686275, ..., 0.13333333,\n",
       "         0.14117647, 0.14509804],\n",
       "        ...,\n",
       "        [0.09411765, 0.09019608, 0.18039216, ..., 0.08235294,\n",
       "         0.08627451, 0.06666667],\n",
       "        [0.10588235, 0.09803922, 0.08235294, ..., 0.08235294,\n",
       "         0.07058824, 0.08235294],\n",
       "        [0.10588235, 0.09803922, 0.10588235, ..., 0.09803922,\n",
       "         0.0627451 , 0.09803922]]])"
      ]
     },
     "execution_count": 6,
     "metadata": {},
     "output_type": "execute_result"
    }
   ],
   "source": [
    "X"
   ]
  },
  {
   "cell_type": "code",
   "execution_count": 7,
   "metadata": {},
   "outputs": [],
   "source": [
    "X = X.reshape(-1, 60, 60, 1)"
   ]
  },
  {
   "cell_type": "code",
   "execution_count": 8,
   "metadata": {},
   "outputs": [
    {
     "name": "stdout",
     "output_type": "stream",
     "text": [
      "WARNING:tensorflow:From C:\\Users\\User\\anaconda3\\lib\\site-packages\\keras\\src\\losses.py:2976: The name tf.losses.sparse_softmax_cross_entropy is deprecated. Please use tf.compat.v1.losses.sparse_softmax_cross_entropy instead.\n",
      "\n"
     ]
    }
   ],
   "source": [
    "from keras.models import Sequential\n",
    "from keras.layers import Conv2D, MaxPooling2D, Dense, Flatten"
   ]
  },
  {
   "cell_type": "code",
   "execution_count": 9,
   "metadata": {},
   "outputs": [
    {
     "name": "stdout",
     "output_type": "stream",
     "text": [
      "WARNING:tensorflow:From C:\\Users\\User\\anaconda3\\lib\\site-packages\\keras\\src\\backend.py:873: The name tf.get_default_graph is deprecated. Please use tf.compat.v1.get_default_graph instead.\n",
      "\n",
      "WARNING:tensorflow:From C:\\Users\\User\\anaconda3\\lib\\site-packages\\keras\\src\\layers\\pooling\\max_pooling2d.py:161: The name tf.nn.max_pool is deprecated. Please use tf.nn.max_pool2d instead.\n",
      "\n"
     ]
    }
   ],
   "source": [
    "model = Sequential()\n",
    "\n",
    "model.add(Conv2D(64, (3,3), activation = 'relu'))\n",
    "model.add(MaxPooling2D((2,2)))\n",
    "\n",
    "model.add(Conv2D(64, (3,3), activation = 'relu'))\n",
    "model.add(MaxPooling2D((2,2)))\n",
    "\n",
    "model.add(Flatten())\n",
    "\n",
    "model.add(Dense(128, input_shape = X.shape[1:], activation = 'relu'))\n",
    "\n",
    "model.add(Dense(2, activation = 'softmax'))"
   ]
  },
  {
   "cell_type": "code",
   "execution_count": 10,
   "metadata": {},
   "outputs": [
    {
     "name": "stdout",
     "output_type": "stream",
     "text": [
      "WARNING:tensorflow:From C:\\Users\\User\\anaconda3\\lib\\site-packages\\keras\\src\\optimizers\\__init__.py:309: The name tf.train.Optimizer is deprecated. Please use tf.compat.v1.train.Optimizer instead.\n",
      "\n"
     ]
    }
   ],
   "source": [
    "model.compile(optimizer='adam',\n",
    "              loss='sparse_categorical_crossentropy',\n",
    "              metrics=['accuracy'])"
   ]
  },
  {
   "cell_type": "code",
   "execution_count": 11,
   "metadata": {
    "scrolled": true
   },
   "outputs": [
    {
     "name": "stdout",
     "output_type": "stream",
     "text": [
      "Epoch 1/5\n",
      "WARNING:tensorflow:From C:\\Users\\User\\anaconda3\\lib\\site-packages\\keras\\src\\utils\\tf_utils.py:492: The name tf.ragged.RaggedTensorValue is deprecated. Please use tf.compat.v1.ragged.RaggedTensorValue instead.\n",
      "\n",
      "WARNING:tensorflow:From C:\\Users\\User\\anaconda3\\lib\\site-packages\\keras\\src\\engine\\base_layer_utils.py:384: The name tf.executing_eagerly_outside_functions is deprecated. Please use tf.compat.v1.executing_eagerly_outside_functions instead.\n",
      "\n",
      "141/141 [==============================] - 14s 84ms/step - loss: 0.6915 - accuracy: 0.5458 - val_loss: 0.6732 - val_accuracy: 0.5900\n",
      "Epoch 2/5\n",
      "141/141 [==============================] - 11s 79ms/step - loss: 0.6446 - accuracy: 0.6376 - val_loss: 0.6499 - val_accuracy: 0.6540\n",
      "Epoch 3/5\n",
      "141/141 [==============================] - 11s 79ms/step - loss: 0.5924 - accuracy: 0.6853 - val_loss: 0.6295 - val_accuracy: 0.6640\n",
      "Epoch 4/5\n",
      "141/141 [==============================] - 11s 78ms/step - loss: 0.5405 - accuracy: 0.7296 - val_loss: 0.6269 - val_accuracy: 0.6440\n",
      "Epoch 5/5\n",
      "141/141 [==============================] - 15s 108ms/step - loss: 0.4737 - accuracy: 0.7691 - val_loss: 0.5985 - val_accuracy: 0.6940\n"
     ]
    },
    {
     "data": {
      "text/plain": [
       "<keras.src.callbacks.History at 0x1cef384fac0>"
      ]
     },
     "execution_count": 11,
     "metadata": {},
     "output_type": "execute_result"
    }
   ],
   "source": [
    "model.fit(X, y, epochs=5, validation_split=0.1)"
   ]
  },
  {
   "cell_type": "code",
   "execution_count": 12,
   "metadata": {},
   "outputs": [
    {
     "data": {
      "text/plain": [
       "(5000, 60, 60, 1)"
      ]
     },
     "execution_count": 12,
     "metadata": {},
     "output_type": "execute_result"
    }
   ],
   "source": [
    "X.shape"
   ]
  },
  {
   "cell_type": "code",
   "execution_count": 13,
   "metadata": {},
   "outputs": [
    {
     "data": {
      "text/plain": [
       "1707476988.6617117"
      ]
     },
     "execution_count": 13,
     "metadata": {},
     "output_type": "execute_result"
    }
   ],
   "source": [
    "import time\n",
    "\n",
    "time.time()"
   ]
  },
  {
   "cell_type": "code",
   "execution_count": 14,
   "metadata": {},
   "outputs": [
    {
     "data": {
      "text/plain": [
       "float"
      ]
     },
     "execution_count": 14,
     "metadata": {},
     "output_type": "execute_result"
    }
   ],
   "source": [
    "type(1707310532.2506883)"
   ]
  },
  {
   "cell_type": "code",
   "execution_count": null,
   "metadata": {},
   "outputs": [],
   "source": []
  }
 ],
 "metadata": {
  "kernelspec": {
   "display_name": "Python 3 (ipykernel)",
   "language": "python",
   "name": "python3"
  },
  "language_info": {
   "codemirror_mode": {
    "name": "ipython",
    "version": 3
   },
   "file_extension": ".py",
   "mimetype": "text/x-python",
   "name": "python",
   "nbconvert_exporter": "python",
   "pygments_lexer": "ipython3",
   "version": "3.9.13"
  }
 },
 "nbformat": 4,
 "nbformat_minor": 2
}
